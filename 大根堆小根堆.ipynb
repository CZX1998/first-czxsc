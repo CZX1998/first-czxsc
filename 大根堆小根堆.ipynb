{
 "cells": [
  {
   "cell_type": "code",
   "execution_count": 6,
   "id": "59d61268",
   "metadata": {},
   "outputs": [],
   "source": [
    "def max_heapify(ary, start, end):\n",
    "    root = start\n",
    "    while True:\n",
    "        child = 2 * root + 1\n",
    "        if child > end:\n",
    "            break\n",
    "        if child + 1 <= end and ary[child] < ary[child + 1]:\n",
    "            child = child + 1\n",
    "        if ary[root] < ary[child]:\n",
    "            ary[root], ary[child] = ary[child], ary[root]   ## 交换\n",
    "            root = child\n",
    "        else:\n",
    "            break"
   ]
  },
  {
   "cell_type": "code",
   "execution_count": 7,
   "id": "d3b65f2d",
   "metadata": {},
   "outputs": [],
   "source": [
    "def heap_sort(ary):\n",
    "    n = len(ary)\n",
    "    first = n // 2 - 1\n",
    "    print(first)\n",
    "    for start in range(first, -1, -1):\n",
    "        max_heapify(ary, start, n - 1)\n",
    "    print('大根堆=%s' % ary)\n",
    "    for end in range(n - 1, -1, -1):\n",
    "        ary[end], ary[0] = ary[0], ary[end]\n",
    "        max_heapify(ary, 0, end - 1)\n",
    "    return ary"
   ]
  },
  {
   "cell_type": "code",
   "execution_count": 8,
   "id": "aaf51ff2",
   "metadata": {},
   "outputs": [
    {
     "name": "stdout",
     "output_type": "stream",
     "text": [
      "3\n",
      "大根堆=[99, 97, 65, 49, 76, 13, 27, 40, 38]\n"
     ]
    },
    {
     "data": {
      "text/plain": [
       "[13, 27, 38, 40, 49, 65, 76, 97, 99]"
      ]
     },
     "execution_count": 8,
     "metadata": {},
     "output_type": "execute_result"
    }
   ],
   "source": [
    "a = [49, 38, 65, 97, 76, 13, 27, 40, 99]\n",
    "heap_sort(a)"
   ]
  },
  {
   "cell_type": "markdown",
   "id": "56989213",
   "metadata": {},
   "source": [
    "## 小根堆"
   ]
  },
  {
   "cell_type": "code",
   "execution_count": 9,
   "id": "5d8c346b",
   "metadata": {},
   "outputs": [],
   "source": [
    "def min_heapify(ary, start, end):\n",
    "    root = start\n",
    "    while True:\n",
    "        child = 2 * root + 1\n",
    "        if child > end:\n",
    "            break\n",
    "        if child + 1 <= end and ary[child + 1] < ary[child]:\n",
    "            child = child + 1\n",
    "        if ary[child] < ary[root]:\n",
    "            ary[root], ary[child] = ary[child], ary[root]\n",
    "            root = child\n",
    "        else:\n",
    "            break"
   ]
  },
  {
   "cell_type": "code",
   "execution_count": 10,
   "id": "091c2c42",
   "metadata": {},
   "outputs": [],
   "source": [
    "def minheap_sort(ary):\n",
    "    n = len(ary)\n",
    "    first = n // 2 - 1\n",
    "    for start in range(first, -1, -1):\n",
    "        min_heapify(ary, start, n - 1)\n",
    "    print(\"小根堆=%s\" % ary)\n",
    "    for end in range(n - 1, -1, -1):\n",
    "        ary[end], ary[0] = ary[0], ary[end]\n",
    "        min_heapify(ary, 0, end - 1)\n",
    "    return ary"
   ]
  },
  {
   "cell_type": "code",
   "execution_count": 11,
   "id": "7bb66a9d",
   "metadata": {},
   "outputs": [
    {
     "name": "stdout",
     "output_type": "stream",
     "text": [
      "小根堆=[13, 27, 38, 40, 49, 65, 76, 97, 99]\n"
     ]
    },
    {
     "data": {
      "text/plain": [
       "[99, 97, 76, 65, 49, 40, 38, 27, 13]"
      ]
     },
     "execution_count": 11,
     "metadata": {},
     "output_type": "execute_result"
    }
   ],
   "source": [
    "minheap_sort(a)"
   ]
  },
  {
   "cell_type": "code",
   "execution_count": null,
   "id": "1c87484c",
   "metadata": {},
   "outputs": [],
   "source": []
  }
 ],
 "metadata": {
  "kernelspec": {
   "display_name": "Python 3",
   "language": "python",
   "name": "python3"
  },
  "language_info": {
   "codemirror_mode": {
    "name": "ipython",
    "version": 3
   },
   "file_extension": ".py",
   "mimetype": "text/x-python",
   "name": "python",
   "nbconvert_exporter": "python",
   "pygments_lexer": "ipython3",
   "version": "3.8.8"
  }
 },
 "nbformat": 4,
 "nbformat_minor": 5
}
